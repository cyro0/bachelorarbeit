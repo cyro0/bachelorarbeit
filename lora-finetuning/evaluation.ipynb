{
 "cells": [
  {
   "cell_type": "markdown",
   "id": "be94e6d6-4096-4d1a-aa58-5afd89f33bff",
   "metadata": {},
   "source": [
    "# Fine-tuning Test"
   ]
  },
  {
   "cell_type": "code",
   "execution_count": 56,
   "id": "1cee09d6",
   "metadata": {},
   "outputs": [
    {
     "data": {
      "text/plain": [
       "{'text': 'It was dumb luck, his bad move had actually put him in an what position?\\nOptions:\\n- virtuous\\n- advantageous\\n- excellent\\n- adventurous\\n- exceptional\\nStep-by-step reasoning process below:\\n',\n",
       " 'label': 0}"
      ]
     },
     "execution_count": 56,
     "metadata": {},
     "output_type": "execute_result"
    }
   ],
   "source": [
    "from datasets import *\n",
    "import datasets\n",
    "import evaluate\n",
    "from evaluate import evaluator\n",
    "from evaluate.visualization import radar_plot\n",
    "from transformers import AutoModelForSequenceClassification, pipeline\n",
    "\n",
    "\n",
    "# dataset = load_dataset('lmsys/toxic-chat', 'toxicchat0124', split=\"test\").shuffle()\n",
    "# dataset = dataset.rename_column(\"user_input\", \"text\")\n",
    "# dataset = dataset.rename_column(\"jailbreaking\", \"label\")\n",
    "# dataset = dataset.remove_columns(\"conv_id\")\n",
    "# dataset = dataset.remove_columns(\"model_output\")\n",
    "# dataset = dataset.remove_columns(\"human_annotation\")\n",
    "# dataset = dataset.remove_columns(\"toxicity\")\n",
    "# dataset = dataset.remove_columns(\"openai_moderation\")\n",
    "\n",
    "# dataset = load_dataset('jackhhao/jailbreak-classification', split=\"test\").shuffle()\n",
    "# dataset = dataset.rename_column(\"prompt\", \"text\")\n",
    "# dataset = dataset.rename_column(\"type\", \"label\")\n",
    "# dataset = dataset.cast_column(\"label\", datasets.ClassLabel(names=[\"benign\", \"jailbreak\"]))\n",
    "\n",
    "# dataset = load_dataset('deepset/prompt-injections', split=\"test\").shuffle()\n",
    "\n",
    "dataset = load_dataset('xTRam1/safe-guard-prompt-injection', split=\"test\").shuffle()\n",
    "\n",
    "dataset[0]\n"
   ]
  },
  {
   "cell_type": "code",
   "execution_count": 57,
   "id": "dce355e1",
   "metadata": {},
   "outputs": [
    {
     "name": "stderr",
     "output_type": "stream",
     "text": [
      "c:\\Users\\chefb\\OneDrive\\Laufbahn\\Hochschule\\S8\\bachelorarbeit\\.venv\\lib\\site-packages\\huggingface_hub\\file_download.py:1132: FutureWarning: `resume_download` is deprecated and will be removed in version 1.0.0. Downloads always resume when possible. If you want to force a new download, use `force_download=True`.\n",
      "  warnings.warn(\n",
      "Some weights of DistilBertForSequenceClassification were not initialized from the model checkpoint at distilbert-base-uncased and are newly initialized: ['classifier.bias', 'classifier.weight', 'pre_classifier.bias', 'pre_classifier.weight']\n",
      "You should probably TRAIN this model on a down-stream task to be able to use it for predictions and inference.\n"
     ]
    },
    {
     "name": "stdout",
     "output_type": "stream",
     "text": [
      "{'accuracy': 0.6980582524271844, 'recall': 0.49230769230769234, 'precision': 0.5228758169934641, 'f1': 0.5071315372424723, 'total_time_in_seconds': 13.701967099998, 'samples_per_second': 150.3433766090637, 'latency_in_seconds': 0.006651440339804855}\n"
     ]
    }
   ],
   "source": [
    "data = dataset\n",
    "task_evaluator = evaluator(\"text-classification\")\n",
    "\n",
    "# 1. Pass a model name or path\n",
    "eval_results = task_evaluator.compute(\n",
    "    model_or_pipeline=\"cyrp/distilbert-base-uncased-lora-text-classification-deepset-promptinjection\",\n",
    "    data=data,\n",
    "    input_column=\"text\",\n",
    "    label_column=\"label\",\n",
    "    label_mapping={\"LABEL_0\": 0, \"LABEL_1\": 1},\n",
    "    metric=evaluate.combine([\"accuracy\", \"recall\", \"precision\", \"f1\"])\n",
    ")\n",
    "print(eval_results) "
   ]
  }
 ],
 "metadata": {
  "kernelspec": {
   "display_name": "Python 3 (ipykernel)",
   "language": "python",
   "name": "python3"
  },
  "language_info": {
   "codemirror_mode": {
    "name": "ipython",
    "version": 3
   },
   "file_extension": ".py",
   "mimetype": "text/x-python",
   "name": "python",
   "nbconvert_exporter": "python",
   "pygments_lexer": "ipython3",
   "version": "3.10.7"
  }
 },
 "nbformat": 4,
 "nbformat_minor": 5
}
