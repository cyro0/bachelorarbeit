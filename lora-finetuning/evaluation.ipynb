{
 "cells": [
  {
   "cell_type": "markdown",
   "id": "be94e6d6-4096-4d1a-aa58-5afd89f33bff",
   "metadata": {},
   "source": [
    "# Fine-tuning Test"
   ]
  },
  {
   "cell_type": "code",
   "execution_count": null,
   "id": "1cee09d6",
   "metadata": {},
   "outputs": [],
   "source": [
    "from datasets import *\n",
    "\n",
    "from transformers import (\n",
    "    AutoTokenizer,\n",
    "    AutoModelForSequenceClassification,\n",
    "    DataCollatorWithPadding,\n",
    "    TrainingArguments,\n",
    "    Trainer)\n",
    "\n",
    "from peft import PeftModel, get_peft_model, LoraConfig\n",
    "import evaluate\n",
    "\n",
    "\n",
    "# dataset = load_dataset('lmsys/toxic-chat', 'toxicchat0124').shuffle()\n",
    "# dataset = dataset.rename_column(\"user_input\", \"text\")\n",
    "# dataset = dataset.rename_column(\"jailbreaking\", \"label\")\n",
    "# dataset = dataset.remove_columns(\"conv_id\")\n",
    "# dataset = dataset.remove_columns(\"model_output\")\n",
    "# dataset = dataset.remove_columns(\"human_annotation\")\n",
    "# dataset = dataset.remove_columns(\"toxicity\")\n",
    "# dataset = dataset.remove_columns(\"openai_moderation\")\n",
    "\n",
    "# dataset = load_dataset('jackhhao/jailbreak-classification').shuffle()\n",
    "# dataset = dataset.rename_column(\"prompt\", \"text\")\n",
    "# dataset = dataset.rename_column(\"type\", \"label\")\n",
    "# dataset = dataset.cast_column(\"label\", datasets.ClassLabel(names=[\"benign\", \"jailbreak\"]))\n",
    "\n",
    "dataset = load_dataset('deepset/prompt-injections').shuffle()\n",
    "\n",
    "# dataset = load_dataset('xTRam1/safe-guard-prompt-injection').shuffle()\n",
    "\n",
    "dataset[\"test\"][0]\n"
   ]
  },
  {
   "cell_type": "code",
   "execution_count": null,
   "id": "620baf0c",
   "metadata": {},
   "outputs": [],
   "source": [
    "model_output = 'evaluation'\n",
    "model_checkpoint = 'distilbert/distilbert-base-uncased'\n",
    "adapter_name = 'cyrp/distilbert-base-uncased-lora-text-classification-safeguard-promptinjection'\n",
    "\n",
    "model = AutoModelForSequenceClassification.from_pretrained(model_checkpoint)\n",
    "model = PeftModel.from_pretrained(model, adapter_name)\n",
    "model = model.merge_and_unload()\n",
    "tokenizer = AutoTokenizer.from_pretrained(model_checkpoint, add_prefix_space=True)"
   ]
  },
  {
   "cell_type": "code",
   "execution_count": 160,
   "id": "5b671c48",
   "metadata": {},
   "outputs": [],
   "source": [
    "# add pad token if none exists\n",
    "if tokenizer.pad_token is None:\n",
    "    tokenizer.add_special_tokens({'pad_token': '[PAD]'})\n",
    "    model.resize_token_embeddings(len(tokenizer))"
   ]
  },
  {
   "cell_type": "code",
   "execution_count": null,
   "id": "52c46523",
   "metadata": {},
   "outputs": [],
   "source": [
    "# create tokenize function\n",
    "def tokenize(batch):\n",
    "\n",
    "    #tokenize and truncate text\n",
    "    tokens = tokenizer(batch['text'], padding=True, truncation=True, max_length=512)\n",
    "    print(batch['label'])\n",
    "    return tokens\n",
    "\n",
    "\n",
    "# tokenize training and validation datasets\n",
    "tokenized_dataset = dataset.map(tokenize, batched=True)\n",
    "\n",
    "tokenized_dataset"
   ]
  },
  {
   "cell_type": "code",
   "execution_count": 162,
   "id": "8a4a74db",
   "metadata": {},
   "outputs": [],
   "source": [
    "# create data collator\n",
    "data_collator = DataCollatorWithPadding(tokenizer=tokenizer)"
   ]
  },
  {
   "cell_type": "code",
   "execution_count": 163,
   "id": "0619a47d",
   "metadata": {},
   "outputs": [],
   "source": [
    "# import accuracy evaluation metric\n",
    "accuracy = evaluate.load(\"accuracy\")"
   ]
  },
  {
   "cell_type": "code",
   "execution_count": 164,
   "id": "6e97db39",
   "metadata": {},
   "outputs": [],
   "source": [
    "peft_config = LoraConfig(task_type=\"SEQ_CLS\",\n",
    "                        r=16,\n",
    "                        lora_alpha=32,\n",
    "                        lora_dropout=0.05\n",
    "                        ,target_modules=[\"q_lin\", \"k_lin\", \"v_lin\"]\n",
    "                        )"
   ]
  },
  {
   "cell_type": "code",
   "execution_count": null,
   "id": "297775fc",
   "metadata": {},
   "outputs": [],
   "source": [
    "model = get_peft_model(model, peft_config)\n",
    "model.print_trainable_parameters()"
   ]
  },
  {
   "cell_type": "code",
   "execution_count": 166,
   "id": "81accabd",
   "metadata": {},
   "outputs": [],
   "source": [
    "# hyperparameters\n",
    "lr = 1e-3\n",
    "batch_size = 2\n",
    "num_epochs = 5"
   ]
  },
  {
   "cell_type": "code",
   "execution_count": 167,
   "id": "590ceaf5",
   "metadata": {},
   "outputs": [],
   "source": [
    "# define training arguments\n",
    "training_args = TrainingArguments(\n",
    "    output_dir= model_output,\n",
    "    learning_rate=lr,\n",
    "    auto_find_batch_size=True,\n",
    "    num_train_epochs=num_epochs,\n",
    "    weight_decay=0.01,\n",
    "    evaluation_strategy=\"epoch\",\n",
    "    save_strategy=\"epoch\",\n",
    "    load_best_model_at_end=True,\n",
    ")"
   ]
  },
  {
   "cell_type": "code",
   "execution_count": 168,
   "id": "a5ee6832",
   "metadata": {},
   "outputs": [],
   "source": [
    "from sklearn.metrics import f1_score, roc_auc_score\n",
    "\n",
    "def compute_metrics(pred):\n",
    "    labels = pred.label_ids\n",
    "    preds = pred.predictions.argmax(-1)\n",
    "    f1 = f1_score(labels, preds, average='weighted')\n",
    "    auprc = roc_auc_score(labels, preds, average='weighted')\n",
    "    return {\n",
    "    'f1': f1,\n",
    "    'auprc': auprc\n",
    "    }"
   ]
  },
  {
   "cell_type": "code",
   "execution_count": 169,
   "id": "675521e1",
   "metadata": {},
   "outputs": [],
   "source": [
    "# creater trainer object\n",
    "trainer = Trainer(\n",
    "    model=model,\n",
    "    args=training_args,\n",
    "    train_dataset=tokenized_dataset[\"train\"],\n",
    "    eval_dataset=tokenized_dataset[\"test\"],\n",
    "    tokenizer=tokenizer,\n",
    "    data_collator=data_collator, # this will dynamically pad examples in each batch to be equal length\n",
    "    compute_metrics=compute_metrics\n",
    ")"
   ]
  },
  {
   "cell_type": "code",
   "execution_count": null,
   "id": "caa0656c",
   "metadata": {},
   "outputs": [],
   "source": [
    "# evaluate model\n",
    "trainer.evaluate()"
   ]
  }
 ],
 "metadata": {
  "kernelspec": {
   "display_name": "Python 3 (ipykernel)",
   "language": "python",
   "name": "python3"
  },
  "language_info": {
   "codemirror_mode": {
    "name": "ipython",
    "version": 3
   },
   "file_extension": ".py",
   "mimetype": "text/x-python",
   "name": "python",
   "nbconvert_exporter": "python",
   "pygments_lexer": "ipython3",
   "version": "3.10.7"
  }
 },
 "nbformat": 4,
 "nbformat_minor": 5
}
