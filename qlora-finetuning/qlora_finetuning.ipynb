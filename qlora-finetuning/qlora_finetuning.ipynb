{
  "cells": [
    {
      "cell_type": "markdown",
      "metadata": {
        "id": "-7hYqUsxYQtl"
      },
      "source": [
        "# (QLora) Fine-tuning Mistral-7b-Instruct"
      ]
    },
    {
      "cell_type": "markdown",
      "metadata": {
        "id": "NT-8d3vZYG4W"
      },
      "source": [
        "### imports"
      ]
    },
    {
      "cell_type": "code",
      "execution_count": 1,
      "metadata": {
        "colab": {
          "base_uri": "https://localhost:8080/"
        },
        "id": "XeaOnjP2zsy-",
        "outputId": "74aa7624-4e96-4c69-e565-d5d081e3012e"
      },
      "outputs": [
        {
          "name": "stdout",
          "output_type": "stream",
          "text": [
            "Requirement already satisfied: auto-gptq in c:\\users\\chefb\\onedrive\\laufbahn\\hochschule\\s8\\bachelorarbeit\\.venv\\lib\\site-packages (0.7.1)\n",
            "Requirement already satisfied: accelerate>=0.26.0 in c:\\users\\chefb\\onedrive\\laufbahn\\hochschule\\s8\\bachelorarbeit\\.venv\\lib\\site-packages (from auto-gptq) (0.30.1)\n",
            "Requirement already satisfied: datasets in c:\\users\\chefb\\onedrive\\laufbahn\\hochschule\\s8\\bachelorarbeit\\.venv\\lib\\site-packages (from auto-gptq) (2.19.1)\n",
            "Requirement already satisfied: sentencepiece in c:\\users\\chefb\\onedrive\\laufbahn\\hochschule\\s8\\bachelorarbeit\\.venv\\lib\\site-packages (from auto-gptq) (0.2.0)\n",
            "Requirement already satisfied: numpy in c:\\users\\chefb\\onedrive\\laufbahn\\hochschule\\s8\\bachelorarbeit\\.venv\\lib\\site-packages (from auto-gptq) (1.26.4)\n",
            "Requirement already satisfied: rouge in c:\\users\\chefb\\onedrive\\laufbahn\\hochschule\\s8\\bachelorarbeit\\.venv\\lib\\site-packages (from auto-gptq) (1.0.1)\n",
            "Requirement already satisfied: gekko in c:\\users\\chefb\\onedrive\\laufbahn\\hochschule\\s8\\bachelorarbeit\\.venv\\lib\\site-packages (from auto-gptq) (1.1.1)\n",
            "Requirement already satisfied: torch>=1.13.0 in c:\\users\\chefb\\onedrive\\laufbahn\\hochschule\\s8\\bachelorarbeit\\.venv\\lib\\site-packages (from auto-gptq) (2.3.0+cu118)\n",
            "Requirement already satisfied: safetensors in c:\\users\\chefb\\onedrive\\laufbahn\\hochschule\\s8\\bachelorarbeit\\.venv\\lib\\site-packages (from auto-gptq) (0.4.3)\n",
            "Requirement already satisfied: transformers>=4.31.0 in c:\\users\\chefb\\onedrive\\laufbahn\\hochschule\\s8\\bachelorarbeit\\.venv\\lib\\site-packages (from auto-gptq) (4.40.2)\n",
            "Requirement already satisfied: peft>=0.5.0 in c:\\users\\chefb\\onedrive\\laufbahn\\hochschule\\s8\\bachelorarbeit\\.venv\\lib\\site-packages (from auto-gptq) (0.11.1)\n",
            "Requirement already satisfied: tqdm in c:\\users\\chefb\\onedrive\\laufbahn\\hochschule\\s8\\bachelorarbeit\\.venv\\lib\\site-packages (from auto-gptq) (4.66.4)\n",
            "Requirement already satisfied: packaging>=20.0 in c:\\users\\chefb\\onedrive\\laufbahn\\hochschule\\s8\\bachelorarbeit\\.venv\\lib\\site-packages (from accelerate>=0.26.0->auto-gptq) (24.0)\n",
            "Requirement already satisfied: psutil in c:\\users\\chefb\\onedrive\\laufbahn\\hochschule\\s8\\bachelorarbeit\\.venv\\lib\\site-packages (from accelerate>=0.26.0->auto-gptq) (5.9.8)\n",
            "Requirement already satisfied: pyyaml in c:\\users\\chefb\\onedrive\\laufbahn\\hochschule\\s8\\bachelorarbeit\\.venv\\lib\\site-packages (from accelerate>=0.26.0->auto-gptq) (6.0.1)\n",
            "Requirement already satisfied: huggingface-hub in c:\\users\\chefb\\onedrive\\laufbahn\\hochschule\\s8\\bachelorarbeit\\.venv\\lib\\site-packages (from accelerate>=0.26.0->auto-gptq) (0.23.1)\n",
            "Requirement already satisfied: filelock in c:\\users\\chefb\\onedrive\\laufbahn\\hochschule\\s8\\bachelorarbeit\\.venv\\lib\\site-packages (from torch>=1.13.0->auto-gptq) (3.14.0)\n",
            "Requirement already satisfied: typing-extensions>=4.8.0 in c:\\users\\chefb\\onedrive\\laufbahn\\hochschule\\s8\\bachelorarbeit\\.venv\\lib\\site-packages (from torch>=1.13.0->auto-gptq) (4.11.0)\n",
            "Requirement already satisfied: sympy in c:\\users\\chefb\\onedrive\\laufbahn\\hochschule\\s8\\bachelorarbeit\\.venv\\lib\\site-packages (from torch>=1.13.0->auto-gptq) (1.12)\n",
            "Requirement already satisfied: networkx in c:\\users\\chefb\\onedrive\\laufbahn\\hochschule\\s8\\bachelorarbeit\\.venv\\lib\\site-packages (from torch>=1.13.0->auto-gptq) (3.3)\n",
            "Requirement already satisfied: jinja2 in c:\\users\\chefb\\onedrive\\laufbahn\\hochschule\\s8\\bachelorarbeit\\.venv\\lib\\site-packages (from torch>=1.13.0->auto-gptq) (3.1.4)\n",
            "Requirement already satisfied: fsspec in c:\\users\\chefb\\onedrive\\laufbahn\\hochschule\\s8\\bachelorarbeit\\.venv\\lib\\site-packages (from torch>=1.13.0->auto-gptq) (2024.3.1)\n",
            "Requirement already satisfied: mkl<=2021.4.0,>=2021.1.1 in c:\\users\\chefb\\onedrive\\laufbahn\\hochschule\\s8\\bachelorarbeit\\.venv\\lib\\site-packages (from torch>=1.13.0->auto-gptq) (2021.4.0)\n",
            "Requirement already satisfied: regex!=2019.12.17 in c:\\users\\chefb\\onedrive\\laufbahn\\hochschule\\s8\\bachelorarbeit\\.venv\\lib\\site-packages (from transformers>=4.31.0->auto-gptq) (2024.5.15)\n",
            "Requirement already satisfied: requests in c:\\users\\chefb\\onedrive\\laufbahn\\hochschule\\s8\\bachelorarbeit\\.venv\\lib\\site-packages (from transformers>=4.31.0->auto-gptq) (2.32.2)\n",
            "Requirement already satisfied: tokenizers<0.20,>=0.19 in c:\\users\\chefb\\onedrive\\laufbahn\\hochschule\\s8\\bachelorarbeit\\.venv\\lib\\site-packages (from transformers>=4.31.0->auto-gptq) (0.19.1)\n",
            "Requirement already satisfied: colorama in c:\\users\\chefb\\onedrive\\laufbahn\\hochschule\\s8\\bachelorarbeit\\.venv\\lib\\site-packages (from tqdm->auto-gptq) (0.4.6)\n",
            "Requirement already satisfied: pyarrow>=12.0.0 in c:\\users\\chefb\\onedrive\\laufbahn\\hochschule\\s8\\bachelorarbeit\\.venv\\lib\\site-packages (from datasets->auto-gptq) (16.1.0)\n",
            "Requirement already satisfied: pyarrow-hotfix in c:\\users\\chefb\\onedrive\\laufbahn\\hochschule\\s8\\bachelorarbeit\\.venv\\lib\\site-packages (from datasets->auto-gptq) (0.6)\n",
            "Requirement already satisfied: dill<0.3.9,>=0.3.0 in c:\\users\\chefb\\onedrive\\laufbahn\\hochschule\\s8\\bachelorarbeit\\.venv\\lib\\site-packages (from datasets->auto-gptq) (0.3.8)\n",
            "Requirement already satisfied: pandas in c:\\users\\chefb\\onedrive\\laufbahn\\hochschule\\s8\\bachelorarbeit\\.venv\\lib\\site-packages (from datasets->auto-gptq) (2.2.2)\n",
            "Requirement already satisfied: xxhash in c:\\users\\chefb\\onedrive\\laufbahn\\hochschule\\s8\\bachelorarbeit\\.venv\\lib\\site-packages (from datasets->auto-gptq) (3.4.1)\n",
            "Requirement already satisfied: multiprocess in c:\\users\\chefb\\onedrive\\laufbahn\\hochschule\\s8\\bachelorarbeit\\.venv\\lib\\site-packages (from datasets->auto-gptq) (0.70.16)\n",
            "Requirement already satisfied: aiohttp in c:\\users\\chefb\\onedrive\\laufbahn\\hochschule\\s8\\bachelorarbeit\\.venv\\lib\\site-packages (from datasets->auto-gptq) (3.9.5)\n",
            "Requirement already satisfied: six in c:\\users\\chefb\\onedrive\\laufbahn\\hochschule\\s8\\bachelorarbeit\\.venv\\lib\\site-packages (from rouge->auto-gptq) (1.16.0)\n",
            "Requirement already satisfied: aiosignal>=1.1.2 in c:\\users\\chefb\\onedrive\\laufbahn\\hochschule\\s8\\bachelorarbeit\\.venv\\lib\\site-packages (from aiohttp->datasets->auto-gptq) (1.3.1)\n",
            "Requirement already satisfied: attrs>=17.3.0 in c:\\users\\chefb\\onedrive\\laufbahn\\hochschule\\s8\\bachelorarbeit\\.venv\\lib\\site-packages (from aiohttp->datasets->auto-gptq) (23.2.0)\n",
            "Requirement already satisfied: frozenlist>=1.1.1 in c:\\users\\chefb\\onedrive\\laufbahn\\hochschule\\s8\\bachelorarbeit\\.venv\\lib\\site-packages (from aiohttp->datasets->auto-gptq) (1.4.1)\n",
            "Requirement already satisfied: multidict<7.0,>=4.5 in c:\\users\\chefb\\onedrive\\laufbahn\\hochschule\\s8\\bachelorarbeit\\.venv\\lib\\site-packages (from aiohttp->datasets->auto-gptq) (6.0.5)\n",
            "Requirement already satisfied: yarl<2.0,>=1.0 in c:\\users\\chefb\\onedrive\\laufbahn\\hochschule\\s8\\bachelorarbeit\\.venv\\lib\\site-packages (from aiohttp->datasets->auto-gptq) (1.9.4)\n",
            "Requirement already satisfied: async-timeout<5.0,>=4.0 in c:\\users\\chefb\\onedrive\\laufbahn\\hochschule\\s8\\bachelorarbeit\\.venv\\lib\\site-packages (from aiohttp->datasets->auto-gptq) (4.0.3)\n",
            "Requirement already satisfied: intel-openmp==2021.* in c:\\users\\chefb\\onedrive\\laufbahn\\hochschule\\s8\\bachelorarbeit\\.venv\\lib\\site-packages (from mkl<=2021.4.0,>=2021.1.1->torch>=1.13.0->auto-gptq) (2021.4.0)\n",
            "Requirement already satisfied: tbb==2021.* in c:\\users\\chefb\\onedrive\\laufbahn\\hochschule\\s8\\bachelorarbeit\\.venv\\lib\\site-packages (from mkl<=2021.4.0,>=2021.1.1->torch>=1.13.0->auto-gptq) (2021.12.0)\n",
            "Requirement already satisfied: charset-normalizer<4,>=2 in c:\\users\\chefb\\onedrive\\laufbahn\\hochschule\\s8\\bachelorarbeit\\.venv\\lib\\site-packages (from requests->transformers>=4.31.0->auto-gptq) (3.3.2)\n",
            "Requirement already satisfied: idna<4,>=2.5 in c:\\users\\chefb\\onedrive\\laufbahn\\hochschule\\s8\\bachelorarbeit\\.venv\\lib\\site-packages (from requests->transformers>=4.31.0->auto-gptq) (3.7)\n",
            "Requirement already satisfied: urllib3<3,>=1.21.1 in c:\\users\\chefb\\onedrive\\laufbahn\\hochschule\\s8\\bachelorarbeit\\.venv\\lib\\site-packages (from requests->transformers>=4.31.0->auto-gptq) (2.2.1)\n",
            "Requirement already satisfied: certifi>=2017.4.17 in c:\\users\\chefb\\onedrive\\laufbahn\\hochschule\\s8\\bachelorarbeit\\.venv\\lib\\site-packages (from requests->transformers>=4.31.0->auto-gptq) (2024.2.2)\n",
            "Requirement already satisfied: MarkupSafe>=2.0 in c:\\users\\chefb\\onedrive\\laufbahn\\hochschule\\s8\\bachelorarbeit\\.venv\\lib\\site-packages (from jinja2->torch>=1.13.0->auto-gptq) (2.1.5)\n",
            "Requirement already satisfied: python-dateutil>=2.8.2 in c:\\users\\chefb\\onedrive\\laufbahn\\hochschule\\s8\\bachelorarbeit\\.venv\\lib\\site-packages (from pandas->datasets->auto-gptq) (2.9.0.post0)\n",
            "Requirement already satisfied: pytz>=2020.1 in c:\\users\\chefb\\onedrive\\laufbahn\\hochschule\\s8\\bachelorarbeit\\.venv\\lib\\site-packages (from pandas->datasets->auto-gptq) (2024.1)\n",
            "Requirement already satisfied: tzdata>=2022.7 in c:\\users\\chefb\\onedrive\\laufbahn\\hochschule\\s8\\bachelorarbeit\\.venv\\lib\\site-packages (from pandas->datasets->auto-gptq) (2024.1)\n",
            "Requirement already satisfied: mpmath>=0.19 in c:\\users\\chefb\\onedrive\\laufbahn\\hochschule\\s8\\bachelorarbeit\\.venv\\lib\\site-packages (from sympy->torch>=1.13.0->auto-gptq) (1.3.0)\n",
            "Requirement already satisfied: optimum in c:\\users\\chefb\\onedrive\\laufbahn\\hochschule\\s8\\bachelorarbeit\\.venv\\lib\\site-packages (1.19.2)\n",
            "Requirement already satisfied: coloredlogs in c:\\users\\chefb\\onedrive\\laufbahn\\hochschule\\s8\\bachelorarbeit\\.venv\\lib\\site-packages (from optimum) (15.0.1)\n",
            "Requirement already satisfied: sympy in c:\\users\\chefb\\onedrive\\laufbahn\\hochschule\\s8\\bachelorarbeit\\.venv\\lib\\site-packages (from optimum) (1.12)\n",
            "Requirement already satisfied: transformers<4.41.0,>=4.26.0 in c:\\users\\chefb\\onedrive\\laufbahn\\hochschule\\s8\\bachelorarbeit\\.venv\\lib\\site-packages (from transformers[sentencepiece]<4.41.0,>=4.26.0->optimum) (4.40.2)\n",
            "Requirement already satisfied: torch>=1.11 in c:\\users\\chefb\\onedrive\\laufbahn\\hochschule\\s8\\bachelorarbeit\\.venv\\lib\\site-packages (from optimum) (2.3.0+cu118)\n",
            "Requirement already satisfied: packaging in c:\\users\\chefb\\onedrive\\laufbahn\\hochschule\\s8\\bachelorarbeit\\.venv\\lib\\site-packages (from optimum) (24.0)\n",
            "Requirement already satisfied: numpy in c:\\users\\chefb\\onedrive\\laufbahn\\hochschule\\s8\\bachelorarbeit\\.venv\\lib\\site-packages (from optimum) (1.26.4)\n",
            "Requirement already satisfied: huggingface-hub>=0.8.0 in c:\\users\\chefb\\onedrive\\laufbahn\\hochschule\\s8\\bachelorarbeit\\.venv\\lib\\site-packages (from optimum) (0.23.1)\n",
            "Requirement already satisfied: datasets in c:\\users\\chefb\\onedrive\\laufbahn\\hochschule\\s8\\bachelorarbeit\\.venv\\lib\\site-packages (from optimum) (2.19.1)\n",
            "Requirement already satisfied: filelock in c:\\users\\chefb\\onedrive\\laufbahn\\hochschule\\s8\\bachelorarbeit\\.venv\\lib\\site-packages (from huggingface-hub>=0.8.0->optimum) (3.14.0)\n",
            "Requirement already satisfied: fsspec>=2023.5.0 in c:\\users\\chefb\\onedrive\\laufbahn\\hochschule\\s8\\bachelorarbeit\\.venv\\lib\\site-packages (from huggingface-hub>=0.8.0->optimum) (2024.3.1)\n",
            "Requirement already satisfied: pyyaml>=5.1 in c:\\users\\chefb\\onedrive\\laufbahn\\hochschule\\s8\\bachelorarbeit\\.venv\\lib\\site-packages (from huggingface-hub>=0.8.0->optimum) (6.0.1)\n",
            "Requirement already satisfied: requests in c:\\users\\chefb\\onedrive\\laufbahn\\hochschule\\s8\\bachelorarbeit\\.venv\\lib\\site-packages (from huggingface-hub>=0.8.0->optimum) (2.32.2)\n",
            "Requirement already satisfied: tqdm>=4.42.1 in c:\\users\\chefb\\onedrive\\laufbahn\\hochschule\\s8\\bachelorarbeit\\.venv\\lib\\site-packages (from huggingface-hub>=0.8.0->optimum) (4.66.4)\n",
            "Requirement already satisfied: typing-extensions>=3.7.4.3 in c:\\users\\chefb\\onedrive\\laufbahn\\hochschule\\s8\\bachelorarbeit\\.venv\\lib\\site-packages (from huggingface-hub>=0.8.0->optimum) (4.11.0)\n",
            "Requirement already satisfied: networkx in c:\\users\\chefb\\onedrive\\laufbahn\\hochschule\\s8\\bachelorarbeit\\.venv\\lib\\site-packages (from torch>=1.11->optimum) (3.3)\n",
            "Requirement already satisfied: jinja2 in c:\\users\\chefb\\onedrive\\laufbahn\\hochschule\\s8\\bachelorarbeit\\.venv\\lib\\site-packages (from torch>=1.11->optimum) (3.1.4)\n",
            "Requirement already satisfied: mkl<=2021.4.0,>=2021.1.1 in c:\\users\\chefb\\onedrive\\laufbahn\\hochschule\\s8\\bachelorarbeit\\.venv\\lib\\site-packages (from torch>=1.11->optimum) (2021.4.0)\n",
            "Requirement already satisfied: regex!=2019.12.17 in c:\\users\\chefb\\onedrive\\laufbahn\\hochschule\\s8\\bachelorarbeit\\.venv\\lib\\site-packages (from transformers<4.41.0,>=4.26.0->transformers[sentencepiece]<4.41.0,>=4.26.0->optimum) (2024.5.15)\n",
            "Requirement already satisfied: tokenizers<0.20,>=0.19 in c:\\users\\chefb\\onedrive\\laufbahn\\hochschule\\s8\\bachelorarbeit\\.venv\\lib\\site-packages (from transformers<4.41.0,>=4.26.0->transformers[sentencepiece]<4.41.0,>=4.26.0->optimum) (0.19.1)\n",
            "Requirement already satisfied: safetensors>=0.4.1 in c:\\users\\chefb\\onedrive\\laufbahn\\hochschule\\s8\\bachelorarbeit\\.venv\\lib\\site-packages (from transformers<4.41.0,>=4.26.0->transformers[sentencepiece]<4.41.0,>=4.26.0->optimum) (0.4.3)\n",
            "Requirement already satisfied: sentencepiece!=0.1.92,>=0.1.91 in c:\\users\\chefb\\onedrive\\laufbahn\\hochschule\\s8\\bachelorarbeit\\.venv\\lib\\site-packages (from transformers[sentencepiece]<4.41.0,>=4.26.0->optimum) (0.2.0)\n",
            "Requirement already satisfied: protobuf in c:\\users\\chefb\\onedrive\\laufbahn\\hochschule\\s8\\bachelorarbeit\\.venv\\lib\\site-packages (from transformers[sentencepiece]<4.41.0,>=4.26.0->optimum) (4.25.3)\n",
            "Requirement already satisfied: humanfriendly>=9.1 in c:\\users\\chefb\\onedrive\\laufbahn\\hochschule\\s8\\bachelorarbeit\\.venv\\lib\\site-packages (from coloredlogs->optimum) (10.0)\n",
            "Requirement already satisfied: pyarrow>=12.0.0 in c:\\users\\chefb\\onedrive\\laufbahn\\hochschule\\s8\\bachelorarbeit\\.venv\\lib\\site-packages (from datasets->optimum) (16.1.0)\n",
            "Requirement already satisfied: pyarrow-hotfix in c:\\users\\chefb\\onedrive\\laufbahn\\hochschule\\s8\\bachelorarbeit\\.venv\\lib\\site-packages (from datasets->optimum) (0.6)\n",
            "Requirement already satisfied: dill<0.3.9,>=0.3.0 in c:\\users\\chefb\\onedrive\\laufbahn\\hochschule\\s8\\bachelorarbeit\\.venv\\lib\\site-packages (from datasets->optimum) (0.3.8)\n",
            "Requirement already satisfied: pandas in c:\\users\\chefb\\onedrive\\laufbahn\\hochschule\\s8\\bachelorarbeit\\.venv\\lib\\site-packages (from datasets->optimum) (2.2.2)\n",
            "Requirement already satisfied: xxhash in c:\\users\\chefb\\onedrive\\laufbahn\\hochschule\\s8\\bachelorarbeit\\.venv\\lib\\site-packages (from datasets->optimum) (3.4.1)\n",
            "Requirement already satisfied: multiprocess in c:\\users\\chefb\\onedrive\\laufbahn\\hochschule\\s8\\bachelorarbeit\\.venv\\lib\\site-packages (from datasets->optimum) (0.70.16)\n",
            "Requirement already satisfied: aiohttp in c:\\users\\chefb\\onedrive\\laufbahn\\hochschule\\s8\\bachelorarbeit\\.venv\\lib\\site-packages (from datasets->optimum) (3.9.5)\n",
            "Requirement already satisfied: mpmath>=0.19 in c:\\users\\chefb\\onedrive\\laufbahn\\hochschule\\s8\\bachelorarbeit\\.venv\\lib\\site-packages (from sympy->optimum) (1.3.0)\n",
            "Requirement already satisfied: aiosignal>=1.1.2 in c:\\users\\chefb\\onedrive\\laufbahn\\hochschule\\s8\\bachelorarbeit\\.venv\\lib\\site-packages (from aiohttp->datasets->optimum) (1.3.1)\n",
            "Requirement already satisfied: attrs>=17.3.0 in c:\\users\\chefb\\onedrive\\laufbahn\\hochschule\\s8\\bachelorarbeit\\.venv\\lib\\site-packages (from aiohttp->datasets->optimum) (23.2.0)\n",
            "Requirement already satisfied: frozenlist>=1.1.1 in c:\\users\\chefb\\onedrive\\laufbahn\\hochschule\\s8\\bachelorarbeit\\.venv\\lib\\site-packages (from aiohttp->datasets->optimum) (1.4.1)\n",
            "Requirement already satisfied: multidict<7.0,>=4.5 in c:\\users\\chefb\\onedrive\\laufbahn\\hochschule\\s8\\bachelorarbeit\\.venv\\lib\\site-packages (from aiohttp->datasets->optimum) (6.0.5)\n",
            "Requirement already satisfied: yarl<2.0,>=1.0 in c:\\users\\chefb\\onedrive\\laufbahn\\hochschule\\s8\\bachelorarbeit\\.venv\\lib\\site-packages (from aiohttp->datasets->optimum) (1.9.4)\n",
            "Requirement already satisfied: async-timeout<5.0,>=4.0 in c:\\users\\chefb\\onedrive\\laufbahn\\hochschule\\s8\\bachelorarbeit\\.venv\\lib\\site-packages (from aiohttp->datasets->optimum) (4.0.3)\n",
            "Requirement already satisfied: pyreadline3 in c:\\users\\chefb\\onedrive\\laufbahn\\hochschule\\s8\\bachelorarbeit\\.venv\\lib\\site-packages (from humanfriendly>=9.1->coloredlogs->optimum) (3.4.1)\n",
            "Requirement already satisfied: intel-openmp==2021.* in c:\\users\\chefb\\onedrive\\laufbahn\\hochschule\\s8\\bachelorarbeit\\.venv\\lib\\site-packages (from mkl<=2021.4.0,>=2021.1.1->torch>=1.11->optimum) (2021.4.0)\n",
            "Requirement already satisfied: tbb==2021.* in c:\\users\\chefb\\onedrive\\laufbahn\\hochschule\\s8\\bachelorarbeit\\.venv\\lib\\site-packages (from mkl<=2021.4.0,>=2021.1.1->torch>=1.11->optimum) (2021.12.0)\n",
            "Requirement already satisfied: charset-normalizer<4,>=2 in c:\\users\\chefb\\onedrive\\laufbahn\\hochschule\\s8\\bachelorarbeit\\.venv\\lib\\site-packages (from requests->huggingface-hub>=0.8.0->optimum) (3.3.2)\n",
            "Requirement already satisfied: idna<4,>=2.5 in c:\\users\\chefb\\onedrive\\laufbahn\\hochschule\\s8\\bachelorarbeit\\.venv\\lib\\site-packages (from requests->huggingface-hub>=0.8.0->optimum) (3.7)\n",
            "Requirement already satisfied: urllib3<3,>=1.21.1 in c:\\users\\chefb\\onedrive\\laufbahn\\hochschule\\s8\\bachelorarbeit\\.venv\\lib\\site-packages (from requests->huggingface-hub>=0.8.0->optimum) (2.2.1)\n",
            "Requirement already satisfied: certifi>=2017.4.17 in c:\\users\\chefb\\onedrive\\laufbahn\\hochschule\\s8\\bachelorarbeit\\.venv\\lib\\site-packages (from requests->huggingface-hub>=0.8.0->optimum) (2024.2.2)\n",
            "Requirement already satisfied: colorama in c:\\users\\chefb\\onedrive\\laufbahn\\hochschule\\s8\\bachelorarbeit\\.venv\\lib\\site-packages (from tqdm>=4.42.1->huggingface-hub>=0.8.0->optimum) (0.4.6)\n",
            "Requirement already satisfied: MarkupSafe>=2.0 in c:\\users\\chefb\\onedrive\\laufbahn\\hochschule\\s8\\bachelorarbeit\\.venv\\lib\\site-packages (from jinja2->torch>=1.11->optimum) (2.1.5)\n",
            "Requirement already satisfied: python-dateutil>=2.8.2 in c:\\users\\chefb\\onedrive\\laufbahn\\hochschule\\s8\\bachelorarbeit\\.venv\\lib\\site-packages (from pandas->datasets->optimum) (2.9.0.post0)\n",
            "Requirement already satisfied: pytz>=2020.1 in c:\\users\\chefb\\onedrive\\laufbahn\\hochschule\\s8\\bachelorarbeit\\.venv\\lib\\site-packages (from pandas->datasets->optimum) (2024.1)\n",
            "Requirement already satisfied: tzdata>=2022.7 in c:\\users\\chefb\\onedrive\\laufbahn\\hochschule\\s8\\bachelorarbeit\\.venv\\lib\\site-packages (from pandas->datasets->optimum) (2024.1)\n",
            "Requirement already satisfied: six>=1.5 in c:\\users\\chefb\\onedrive\\laufbahn\\hochschule\\s8\\bachelorarbeit\\.venv\\lib\\site-packages (from python-dateutil>=2.8.2->pandas->datasets->optimum) (1.16.0)\n",
            "Requirement already satisfied: bitsandbytes in c:\\users\\chefb\\onedrive\\laufbahn\\hochschule\\s8\\bachelorarbeit\\.venv\\lib\\site-packages (0.43.1)\n",
            "Requirement already satisfied: torch in c:\\users\\chefb\\onedrive\\laufbahn\\hochschule\\s8\\bachelorarbeit\\.venv\\lib\\site-packages (from bitsandbytes) (2.3.0+cu118)\n",
            "Requirement already satisfied: numpy in c:\\users\\chefb\\onedrive\\laufbahn\\hochschule\\s8\\bachelorarbeit\\.venv\\lib\\site-packages (from bitsandbytes) (1.26.4)\n",
            "Requirement already satisfied: filelock in c:\\users\\chefb\\onedrive\\laufbahn\\hochschule\\s8\\bachelorarbeit\\.venv\\lib\\site-packages (from torch->bitsandbytes) (3.14.0)\n",
            "Requirement already satisfied: typing-extensions>=4.8.0 in c:\\users\\chefb\\onedrive\\laufbahn\\hochschule\\s8\\bachelorarbeit\\.venv\\lib\\site-packages (from torch->bitsandbytes) (4.11.0)\n",
            "Requirement already satisfied: sympy in c:\\users\\chefb\\onedrive\\laufbahn\\hochschule\\s8\\bachelorarbeit\\.venv\\lib\\site-packages (from torch->bitsandbytes) (1.12)\n",
            "Requirement already satisfied: networkx in c:\\users\\chefb\\onedrive\\laufbahn\\hochschule\\s8\\bachelorarbeit\\.venv\\lib\\site-packages (from torch->bitsandbytes) (3.3)\n",
            "Requirement already satisfied: jinja2 in c:\\users\\chefb\\onedrive\\laufbahn\\hochschule\\s8\\bachelorarbeit\\.venv\\lib\\site-packages (from torch->bitsandbytes) (3.1.4)\n",
            "Requirement already satisfied: fsspec in c:\\users\\chefb\\onedrive\\laufbahn\\hochschule\\s8\\bachelorarbeit\\.venv\\lib\\site-packages (from torch->bitsandbytes) (2024.3.1)\n",
            "Requirement already satisfied: mkl<=2021.4.0,>=2021.1.1 in c:\\users\\chefb\\onedrive\\laufbahn\\hochschule\\s8\\bachelorarbeit\\.venv\\lib\\site-packages (from torch->bitsandbytes) (2021.4.0)\n",
            "Requirement already satisfied: intel-openmp==2021.* in c:\\users\\chefb\\onedrive\\laufbahn\\hochschule\\s8\\bachelorarbeit\\.venv\\lib\\site-packages (from mkl<=2021.4.0,>=2021.1.1->torch->bitsandbytes) (2021.4.0)\n",
            "Requirement already satisfied: tbb==2021.* in c:\\users\\chefb\\onedrive\\laufbahn\\hochschule\\s8\\bachelorarbeit\\.venv\\lib\\site-packages (from mkl<=2021.4.0,>=2021.1.1->torch->bitsandbytes) (2021.12.0)\n",
            "Requirement already satisfied: MarkupSafe>=2.0 in c:\\users\\chefb\\onedrive\\laufbahn\\hochschule\\s8\\bachelorarbeit\\.venv\\lib\\site-packages (from jinja2->torch->bitsandbytes) (2.1.5)\n",
            "Requirement already satisfied: mpmath>=0.19 in c:\\users\\chefb\\onedrive\\laufbahn\\hochschule\\s8\\bachelorarbeit\\.venv\\lib\\site-packages (from sympy->torch->bitsandbytes) (1.3.0)\n"
          ]
        }
      ],
      "source": [
        "!pip install auto-gptq\n",
        "!pip install optimum\n",
        "!pip install bitsandbytes"
      ]
    },
    {
      "cell_type": "code",
      "execution_count": 2,
      "metadata": {
        "id": "tfSl5xRs0y8J"
      },
      "outputs": [],
      "source": [
        "from transformers import AutoModelForCausalLM, AutoTokenizer, pipeline\n",
        "from peft import prepare_model_for_kbit_training\n",
        "from peft import LoraConfig, get_peft_model\n",
        "from datasets import load_dataset\n",
        "import transformers"
      ]
    },
    {
      "cell_type": "markdown",
      "metadata": {
        "id": "VVstnrh-0m2x"
      },
      "source": [
        "### Load model"
      ]
    },
    {
      "cell_type": "code",
      "execution_count": 3,
      "metadata": {
        "colab": {
          "base_uri": "https://localhost:8080/",
          "height": 252,
          "referenced_widgets": [
            "88e1cf65d505401288505abe35a59f31",
            "4e0db07ef5ff43b98fcbdd399e70ff36",
            "621f7ed115864299a11a87127c32304e",
            "daecfbdbd7b949d689810561384e1fde",
            "e35dc7369d3e46319bdf56f1b08097a3",
            "795c2e9af11d404c92dc35c1184acece",
            "ce1b9589156b42a7a6effdbb274cd4da",
            "7ee13bdb1b264311864ffea2c94e9d38",
            "9f45ec20d88944f4825ca2402de85db0",
            "c3de7c54705f46b3944b60cf230317cf",
            "47ddb92cf4f94e009606d4684ace8789",
            "fffb54a547a24aacb74c316b013e8024",
            "2457090ecb084ecbbbb8db61d26ae1fd",
            "9e19a613838141de9301e54d2d3b8324",
            "fd37f51d4efb40db8a9509596d48015a",
            "4174275dae2341149b69bd193f79c34d",
            "812dfb653090454c94c7226990686625",
            "fc94a0dd65734f258b0de2ea876c9c85",
            "5b304595f6a8412c9ce5442725de530d",
            "0e9633a095de4643b9936206eccf44ac",
            "65472120905f4122aa4ed6ced86a4b5d",
            "83ace7a583bb41e6a13886f1cb0f7e07",
            "1869dfc09dfe4606beb053d01246ce77",
            "578dac09ef9b4e09a1a64c80f11ac3ed",
            "c419ce7315a54d58803047ab4fa82c89",
            "6a8517180b324c608c3661849ec651c4",
            "31366d3b17114485ad3762b950b8eb98",
            "184874f5df5344efb7c878cfac7c471a",
            "2082d6db2a734cd5b884985539abccfc",
            "4118c30f83b04be191eca36a8a43b072",
            "17312a3916e545f6b7398dd03ce7ed54",
            "79d683a91643419797ae7ba205dbea5f",
            "438453ccb47b4edaaf8c8e29c97aafeb"
          ]
        },
        "id": "GFcKal6c96su",
        "outputId": "76fff266-7c8b-491d-ddc3-a5d96029b7f8"
      },
      "outputs": [
        {
          "name": "stderr",
          "output_type": "stream",
          "text": [
            "c:\\Users\\chefb\\OneDrive\\Laufbahn\\Hochschule\\S8\\bachelorarbeit\\.venv\\lib\\site-packages\\huggingface_hub\\file_download.py:1132: FutureWarning: `resume_download` is deprecated and will be removed in version 1.0.0. Downloads always resume when possible. If you want to force a new download, use `force_download=True`.\n",
            "  warnings.warn(\n",
            "CUDA extension not installed.\n",
            "CUDA extension not installed.\n",
            "c:\\Users\\chefb\\OneDrive\\Laufbahn\\Hochschule\\S8\\bachelorarbeit\\.venv\\lib\\site-packages\\transformers\\modeling_utils.py:4371: FutureWarning: `_is_quantized_training_enabled` is going to be deprecated in transformers 4.39.0. Please use `model.hf_quantizer.is_trainable` instead\n",
            "  warnings.warn(\n"
          ]
        }
      ],
      "source": [
        "model_name = \"TheBloke/Mistral-7B-Instruct-v0.2-GPTQ\"\n",
        "model = AutoModelForCausalLM.from_pretrained(model_name,\n",
        "                                             device_map=\"auto\", # automatically figures out how to best use CPU + GPU for loading model\n",
        "                                             trust_remote_code=False, # prevents running custom model files on your machine\n",
        "                                             revision=\"main\") # which version of model to use in repo"
      ]
    },
    {
      "cell_type": "markdown",
      "metadata": {
        "id": "bCKC3_yl0pNS"
      },
      "source": [
        "### Load tokenizer"
      ]
    },
    {
      "cell_type": "code",
      "execution_count": 4,
      "metadata": {
        "id": "c3CIa8C80Vtm"
      },
      "outputs": [],
      "source": [
        "tokenizer = AutoTokenizer.from_pretrained(model_name, use_fast=True)"
      ]
    },
    {
      "cell_type": "markdown",
      "metadata": {
        "id": "VnFiyBOc329l"
      },
      "source": [
        "### Using Base Model"
      ]
    },
    {
      "cell_type": "code",
      "execution_count": 5,
      "metadata": {
        "id": "Du9KLy3N8Ap6"
      },
      "outputs": [
        {
          "name": "stderr",
          "output_type": "stream",
          "text": [
            "The attention mask and the pad token id were not set. As a consequence, you may observe unexpected behavior. Please pass your input's `attention_mask` to obtain reliable results.\n",
            "Setting `pad_token_id` to `eos_token_id`:2 for open-end generation.\n",
            "c:\\Users\\chefb\\OneDrive\\Laufbahn\\Hochschule\\S8\\bachelorarbeit\\.venv\\lib\\site-packages\\transformers\\models\\mistral\\modeling_mistral.py:688: UserWarning: 1Torch was not compiled with flash attention. (Triggered internally at ..\\aten\\src\\ATen\\native\\transformers\\cuda\\sdp_utils.cpp:455.)\n",
            "  attn_output = torch.nn.functional.scaled_dot_product_attention(\n"
          ]
        },
        {
          "name": "stdout",
          "output_type": "stream",
          "text": [
            "<s> [INST] Very cool movie, thank you love [/INST] I'm glad you enjoyed the movie! If you have any specific questions or topics related to the film that you'd like to discuss, feel free to ask. I'm here to help answer any questions you might have. And of course, if you just wanted to express your appreciation for the movie, that's great too! Thanks for sharing your thoughts. Is there another movie or topic you'd like to talk about?</s>\n"
          ]
        }
      ],
      "source": [
        "model.eval() # model in evaluation mode (dropout modules are deactivated)\n",
        "\n",
        "# craft prompt\n",
        "comment = \"Very cool movie, thank you love\"\n",
        "prompt=f'''[INST] {comment} [/INST]'''\n",
        "\n",
        "# tokenize input\n",
        "inputs = tokenizer(prompt, return_tensors=\"pt\")\n",
        "\n",
        "# generate output\n",
        "outputs = model.generate(input_ids=inputs[\"input_ids\"].to(\"cuda\"), max_new_tokens=140)\n",
        "\n",
        "print(tokenizer.batch_decode(outputs)[0])"
      ]
    },
    {
      "cell_type": "markdown",
      "metadata": {
        "id": "M7XAi8rtC5a9"
      },
      "source": [
        "#### Prompt Engineering"
      ]
    },
    {
      "cell_type": "code",
      "execution_count": null,
      "metadata": {
        "id": "U77JPibZ4QuK"
      },
      "outputs": [],
      "source": [
        "intstructions_string = f\"\"\"You are IMDb AI, an AI Bot which determines if a comment on a movie is negative or positive. Your only responses are \"Negtive\" or \"Positive\". \\n\n",
        "You use \"Positive\" if the given Comment is a positive one. You use \"Negative\" if the given Comment is a negative one.\n",
        "\"\"\"\n",
        "\n",
        "prompt_template = lambda comment: f'''[INST] {intstructions_string} \\n{comment} \\n[/INST]'''\n",
        "\n",
        "prompt = prompt_template(comment)\n",
        "print(prompt)"
      ]
    },
    {
      "cell_type": "code",
      "execution_count": null,
      "metadata": {
        "id": "EUaf1YyZ7R7G"
      },
      "outputs": [],
      "source": [
        "# tokenize input\n",
        "inputs = tokenizer(prompt, return_tensors=\"pt\")\n",
        "\n",
        "# generate output\n",
        "outputs = model.generate(input_ids=inputs[\"input_ids\"].to(\"cuda\"), max_new_tokens=140)\n",
        "\n",
        "print(tokenizer.batch_decode(outputs)[0])"
      ]
    },
    {
      "cell_type": "markdown",
      "metadata": {
        "id": "nXc8pBsVIy2N"
      },
      "source": [
        "### Prepare Model for Training"
      ]
    },
    {
      "cell_type": "code",
      "execution_count": null,
      "metadata": {
        "id": "K3PesDIyI1Hn"
      },
      "outputs": [],
      "source": [
        "model.train() # model in training mode (dropout modules are activated)\n",
        "\n",
        "# enable gradient check pointing\n",
        "model.gradient_checkpointing_enable()\n",
        "\n",
        "# enable quantized training\n",
        "model = prepare_model_for_kbit_training(model)"
      ]
    },
    {
      "cell_type": "code",
      "execution_count": null,
      "metadata": {
        "id": "iXOHXZcII5FS"
      },
      "outputs": [],
      "source": [
        "# LoRA config\n",
        "config = LoraConfig(\n",
        "    r=8,\n",
        "    lora_alpha=32,\n",
        "    target_modules=[\"q_proj\"],\n",
        "    lora_dropout=0.05,\n",
        "    bias=\"none\",\n",
        "    task_type=\"CAUSAL_LM\"\n",
        ")\n",
        "\n",
        "# LoRA trainable version of model\n",
        "model = get_peft_model(model, config)\n",
        "\n",
        "# trainable parameter count\n",
        "model.print_trainable_parameters()"
      ]
    },
    {
      "cell_type": "markdown",
      "metadata": {
        "id": "tssCKXx3hUqM"
      },
      "source": [
        "### Preparing Training Dataset"
      ]
    },
    {
      "cell_type": "code",
      "execution_count": null,
      "metadata": {
        "id": "TqWGy2UBI8bo"
      },
      "outputs": [],
      "source": [
        "# load dataset\n",
        "data = load_dataset(\"shawhin/shawgpt-youtube-comments\")"
      ]
    },
    {
      "cell_type": "code",
      "execution_count": null,
      "metadata": {
        "id": "D9LEA_g9gZPF"
      },
      "outputs": [],
      "source": [
        "# create tokenize function\n",
        "def tokenize_function(examples):\n",
        "    # extract text\n",
        "    text = examples[\"example\"]\n",
        "\n",
        "    #tokenize and truncate text\n",
        "    tokenizer.truncation_side = \"left\"\n",
        "    tokenized_inputs = tokenizer(\n",
        "        text,\n",
        "        return_tensors=\"np\",\n",
        "        truncation=True,\n",
        "        max_length=512\n",
        "    )\n",
        "\n",
        "    return tokenized_inputs\n",
        "\n",
        "# tokenize training and validation datasets\n",
        "tokenized_data = data.map(tokenize_function, batched=True)"
      ]
    },
    {
      "cell_type": "code",
      "execution_count": null,
      "metadata": {
        "id": "pow8yLjKcJM8"
      },
      "outputs": [],
      "source": [
        "# setting pad token\n",
        "tokenizer.pad_token = tokenizer.eos_token\n",
        "# data collator\n",
        "data_collator = transformers.DataCollatorForLanguageModeling(tokenizer, mlm=False)\n"
      ]
    },
    {
      "cell_type": "markdown",
      "metadata": {
        "id": "e-evbaTxhQTC"
      },
      "source": [
        "### Fine-tuning Model"
      ]
    },
    {
      "cell_type": "code",
      "execution_count": null,
      "metadata": {
        "id": "e1PPLr4McNii"
      },
      "outputs": [],
      "source": [
        "# hyperparameters\n",
        "lr = 2e-4\n",
        "batch_size = 4\n",
        "num_epochs = 10\n",
        "\n",
        "# define training arguments\n",
        "training_args = transformers.TrainingArguments(\n",
        "    output_dir= \"shawgpt-ft\",\n",
        "    learning_rate=lr,\n",
        "    per_device_train_batch_size=batch_size,\n",
        "    per_device_eval_batch_size=batch_size,\n",
        "    num_train_epochs=num_epochs,\n",
        "    weight_decay=0.01,\n",
        "    logging_strategy=\"epoch\",\n",
        "    evaluation_strategy=\"epoch\",\n",
        "    save_strategy=\"epoch\",\n",
        "    load_best_model_at_end=True,\n",
        "    gradient_accumulation_steps=4,\n",
        "    warmup_steps=2,\n",
        "    fp16=True,\n",
        "    optim=\"paged_adamw_8bit\",\n",
        "\n",
        ")"
      ]
    },
    {
      "cell_type": "code",
      "execution_count": null,
      "metadata": {
        "id": "m6wZK62bJKsJ"
      },
      "outputs": [],
      "source": [
        "# configure trainer\n",
        "trainer = transformers.Trainer(\n",
        "    model=model,\n",
        "    train_dataset=tokenized_data[\"train\"],\n",
        "    eval_dataset=tokenized_data[\"test\"],\n",
        "    args=training_args,\n",
        "    data_collator=data_collator\n",
        ")\n",
        "\n",
        "# train model\n",
        "model.config.use_cache = False  # silence the warnings. Please re-enable for inference!\n",
        "trainer.train()\n",
        "\n",
        "# renable warnings\n",
        "model.config.use_cache = True"
      ]
    },
    {
      "cell_type": "markdown",
      "metadata": {
        "id": "e3-3yynACoX0"
      },
      "source": [
        "### Push model to hub"
      ]
    },
    {
      "cell_type": "code",
      "execution_count": null,
      "metadata": {
        "id": "_c5KhuhpCno-"
      },
      "outputs": [],
      "source": [
        "from huggingface_hub import notebook_login\n",
        "notebook_login()\n",
        "\n",
        "# # option 2: key login\n",
        "# from huggingface_hub import login\n",
        "# write_key = 'hf_' # paste token here\n",
        "# login(write_key)"
      ]
    },
    {
      "cell_type": "code",
      "execution_count": null,
      "metadata": {
        "id": "PYLbvvuPCq7q"
      },
      "outputs": [],
      "source": [
        "hf_name = 'shawhin' # your hf username or org name\n",
        "model_id = hf_name + \"/\" + \"shawgpt-ft\""
      ]
    },
    {
      "cell_type": "code",
      "execution_count": null,
      "metadata": {
        "id": "c4nAFjYPDC4_"
      },
      "outputs": [],
      "source": [
        "model.push_to_hub(model_id)\n",
        "trainer.push_to_hub(model_id)"
      ]
    },
    {
      "cell_type": "markdown",
      "metadata": {
        "id": "dDxRMA_BCBAt"
      },
      "source": [
        "### Load Fine-tuned Model"
      ]
    },
    {
      "cell_type": "code",
      "execution_count": null,
      "metadata": {
        "id": "T9gRgNjNiTvK"
      },
      "outputs": [],
      "source": [
        "# # load model from hub\n",
        "# from peft import PeftModel, PeftConfig\n",
        "# from transformers import AutoModelForCausalLM\n",
        "\n",
        "# model_name = \"TheBloke/Mistral-7B-Instruct-v0.2-GPTQ\"\n",
        "# model = AutoModelForCausalLM.from_pretrained(model_name,\n",
        "#                                              device_map=\"auto\",\n",
        "#                                              trust_remote_code=False,\n",
        "#                                              revision=\"main\")\n",
        "\n",
        "# config = PeftConfig.from_pretrained(\"shawhin/shawgpt-ft\")\n",
        "# model = PeftModel.from_pretrained(model, \"shawhin/shawgpt-ft\")\n",
        "\n",
        "# # load tokenizer\n",
        "# tokenizer = AutoTokenizer.from_pretrained(model_name, use_fast=True)"
      ]
    },
    {
      "cell_type": "markdown",
      "metadata": {
        "id": "UJIo4nUnhgiU"
      },
      "source": [
        "### Use Fine-tuned Model"
      ]
    },
    {
      "cell_type": "code",
      "execution_count": null,
      "metadata": {
        "id": "ITUJZDIYjs4t"
      },
      "outputs": [],
      "source": [
        "intstructions_string = f\"\"\"ShawGPT, functioning as a virtual data science consultant on YouTube, communicates in clear, accessible language, escalating to technical depth upon request. \\\n",
        "It reacts to feedback aptly and ends responses with its signature '–ShawGPT'. \\\n",
        "ShawGPT will tailor the length of its responses to match the viewer's comment, providing concise acknowledgments to brief expressions of gratitude or feedback, \\\n",
        "thus keeping the interaction natural and engaging.\n",
        "\n",
        "Please respond to the following comment.\n",
        "\"\"\"\n",
        "prompt_template = lambda comment: f'''[INST] {intstructions_string} \\n{comment} \\n[/INST]'''\n",
        "\n",
        "comment = \"Great content, thank you!\"\n",
        "\n",
        "prompt = prompt_template(comment)\n",
        "print(prompt)"
      ]
    },
    {
      "cell_type": "code",
      "execution_count": null,
      "metadata": {
        "id": "j9wNZ2URivBW"
      },
      "outputs": [],
      "source": [
        "model.eval()\n",
        "\n",
        "inputs = tokenizer(prompt, return_tensors=\"pt\")\n",
        "outputs = model.generate(input_ids=inputs[\"input_ids\"].to(\"cuda\"), max_new_tokens=280)\n",
        "\n",
        "print(tokenizer.batch_decode(outputs)[0])"
      ]
    },
    {
      "cell_type": "code",
      "execution_count": null,
      "metadata": {
        "id": "p1Pzx5q_wt2z"
      },
      "outputs": [],
      "source": [
        "comment = \"What is fat-tailedness?\"\n",
        "prompt = prompt_template(comment)\n",
        "\n",
        "model.eval()\n",
        "inputs = tokenizer(prompt, return_tensors=\"pt\")\n",
        "\n",
        "outputs = model.generate(input_ids=inputs[\"input_ids\"].to(\"cuda\"), max_new_tokens=280)\n",
        "print(tokenizer.batch_decode(outputs)[0])"
      ]
    },
    {
      "cell_type": "code",
      "execution_count": null,
      "metadata": {
        "id": "8OybvrnR5Qy_"
      },
      "outputs": [],
      "source": []
    }
  ],
  "metadata": {
    "accelerator": "GPU",
    "colab": {
      "gpuType": "T4",
      "provenance": []
    },
    "kernelspec": {
      "display_name": "Python 3",
      "name": "python3"
    },
    "language_info": {
      "codemirror_mode": {
        "name": "ipython",
        "version": 3
      },
      "file_extension": ".py",
      "mimetype": "text/x-python",
      "name": "python",
      "nbconvert_exporter": "python",
      "pygments_lexer": "ipython3",
      "version": "3.10.7"
    },
    "widgets": {
      "application/vnd.jupyter.widget-state+json": {
        "0e9633a095de4643b9936206eccf44ac": {
          "model_module": "@jupyter-widgets/controls",
          "model_module_version": "1.5.0",
          "model_name": "ProgressStyleModel",
          "state": {
            "_model_module": "@jupyter-widgets/controls",
            "_model_module_version": "1.5.0",
            "_model_name": "ProgressStyleModel",
            "_view_count": null,
            "_view_module": "@jupyter-widgets/base",
            "_view_module_version": "1.2.0",
            "_view_name": "StyleView",
            "bar_color": null,
            "description_width": ""
          }
        },
        "17312a3916e545f6b7398dd03ce7ed54": {
          "model_module": "@jupyter-widgets/controls",
          "model_module_version": "1.5.0",
          "model_name": "ProgressStyleModel",
          "state": {
            "_model_module": "@jupyter-widgets/controls",
            "_model_module_version": "1.5.0",
            "_model_name": "ProgressStyleModel",
            "_view_count": null,
            "_view_module": "@jupyter-widgets/base",
            "_view_module_version": "1.2.0",
            "_view_name": "StyleView",
            "bar_color": null,
            "description_width": ""
          }
        },
        "184874f5df5344efb7c878cfac7c471a": {
          "model_module": "@jupyter-widgets/base",
          "model_module_version": "1.2.0",
          "model_name": "LayoutModel",
          "state": {
            "_model_module": "@jupyter-widgets/base",
            "_model_module_version": "1.2.0",
            "_model_name": "LayoutModel",
            "_view_count": null,
            "_view_module": "@jupyter-widgets/base",
            "_view_module_version": "1.2.0",
            "_view_name": "LayoutView",
            "align_content": null,
            "align_items": null,
            "align_self": null,
            "border": null,
            "bottom": null,
            "display": null,
            "flex": null,
            "flex_flow": null,
            "grid_area": null,
            "grid_auto_columns": null,
            "grid_auto_flow": null,
            "grid_auto_rows": null,
            "grid_column": null,
            "grid_gap": null,
            "grid_row": null,
            "grid_template_areas": null,
            "grid_template_columns": null,
            "grid_template_rows": null,
            "height": null,
            "justify_content": null,
            "justify_items": null,
            "left": null,
            "margin": null,
            "max_height": null,
            "max_width": null,
            "min_height": null,
            "min_width": null,
            "object_fit": null,
            "object_position": null,
            "order": null,
            "overflow": null,
            "overflow_x": null,
            "overflow_y": null,
            "padding": null,
            "right": null,
            "top": null,
            "visibility": null,
            "width": null
          }
        },
        "1869dfc09dfe4606beb053d01246ce77": {
          "model_module": "@jupyter-widgets/controls",
          "model_module_version": "1.5.0",
          "model_name": "HBoxModel",
          "state": {
            "_dom_classes": [],
            "_model_module": "@jupyter-widgets/controls",
            "_model_module_version": "1.5.0",
            "_model_name": "HBoxModel",
            "_view_count": null,
            "_view_module": "@jupyter-widgets/controls",
            "_view_module_version": "1.5.0",
            "_view_name": "HBoxView",
            "box_style": "",
            "children": [
              "IPY_MODEL_578dac09ef9b4e09a1a64c80f11ac3ed",
              "IPY_MODEL_c419ce7315a54d58803047ab4fa82c89",
              "IPY_MODEL_6a8517180b324c608c3661849ec651c4"
            ],
            "layout": "IPY_MODEL_31366d3b17114485ad3762b950b8eb98"
          }
        },
        "2082d6db2a734cd5b884985539abccfc": {
          "model_module": "@jupyter-widgets/controls",
          "model_module_version": "1.5.0",
          "model_name": "DescriptionStyleModel",
          "state": {
            "_model_module": "@jupyter-widgets/controls",
            "_model_module_version": "1.5.0",
            "_model_name": "DescriptionStyleModel",
            "_view_count": null,
            "_view_module": "@jupyter-widgets/base",
            "_view_module_version": "1.2.0",
            "_view_name": "StyleView",
            "description_width": ""
          }
        },
        "2457090ecb084ecbbbb8db61d26ae1fd": {
          "model_module": "@jupyter-widgets/controls",
          "model_module_version": "1.5.0",
          "model_name": "HTMLModel",
          "state": {
            "_dom_classes": [],
            "_model_module": "@jupyter-widgets/controls",
            "_model_module_version": "1.5.0",
            "_model_name": "HTMLModel",
            "_view_count": null,
            "_view_module": "@jupyter-widgets/controls",
            "_view_module_version": "1.5.0",
            "_view_name": "HTMLView",
            "description": "",
            "description_tooltip": null,
            "layout": "IPY_MODEL_812dfb653090454c94c7226990686625",
            "placeholder": "​",
            "style": "IPY_MODEL_fc94a0dd65734f258b0de2ea876c9c85",
            "value": "model.safetensors: 100%"
          }
        },
        "31366d3b17114485ad3762b950b8eb98": {
          "model_module": "@jupyter-widgets/base",
          "model_module_version": "1.2.0",
          "model_name": "LayoutModel",
          "state": {
            "_model_module": "@jupyter-widgets/base",
            "_model_module_version": "1.2.0",
            "_model_name": "LayoutModel",
            "_view_count": null,
            "_view_module": "@jupyter-widgets/base",
            "_view_module_version": "1.2.0",
            "_view_name": "LayoutView",
            "align_content": null,
            "align_items": null,
            "align_self": null,
            "border": null,
            "bottom": null,
            "display": null,
            "flex": null,
            "flex_flow": null,
            "grid_area": null,
            "grid_auto_columns": null,
            "grid_auto_flow": null,
            "grid_auto_rows": null,
            "grid_column": null,
            "grid_gap": null,
            "grid_row": null,
            "grid_template_areas": null,
            "grid_template_columns": null,
            "grid_template_rows": null,
            "height": null,
            "justify_content": null,
            "justify_items": null,
            "left": null,
            "margin": null,
            "max_height": null,
            "max_width": null,
            "min_height": null,
            "min_width": null,
            "object_fit": null,
            "object_position": null,
            "order": null,
            "overflow": null,
            "overflow_x": null,
            "overflow_y": null,
            "padding": null,
            "right": null,
            "top": null,
            "visibility": null,
            "width": null
          }
        },
        "4118c30f83b04be191eca36a8a43b072": {
          "model_module": "@jupyter-widgets/base",
          "model_module_version": "1.2.0",
          "model_name": "LayoutModel",
          "state": {
            "_model_module": "@jupyter-widgets/base",
            "_model_module_version": "1.2.0",
            "_model_name": "LayoutModel",
            "_view_count": null,
            "_view_module": "@jupyter-widgets/base",
            "_view_module_version": "1.2.0",
            "_view_name": "LayoutView",
            "align_content": null,
            "align_items": null,
            "align_self": null,
            "border": null,
            "bottom": null,
            "display": null,
            "flex": null,
            "flex_flow": null,
            "grid_area": null,
            "grid_auto_columns": null,
            "grid_auto_flow": null,
            "grid_auto_rows": null,
            "grid_column": null,
            "grid_gap": null,
            "grid_row": null,
            "grid_template_areas": null,
            "grid_template_columns": null,
            "grid_template_rows": null,
            "height": null,
            "justify_content": null,
            "justify_items": null,
            "left": null,
            "margin": null,
            "max_height": null,
            "max_width": null,
            "min_height": null,
            "min_width": null,
            "object_fit": null,
            "object_position": null,
            "order": null,
            "overflow": null,
            "overflow_x": null,
            "overflow_y": null,
            "padding": null,
            "right": null,
            "top": null,
            "visibility": null,
            "width": null
          }
        },
        "4174275dae2341149b69bd193f79c34d": {
          "model_module": "@jupyter-widgets/base",
          "model_module_version": "1.2.0",
          "model_name": "LayoutModel",
          "state": {
            "_model_module": "@jupyter-widgets/base",
            "_model_module_version": "1.2.0",
            "_model_name": "LayoutModel",
            "_view_count": null,
            "_view_module": "@jupyter-widgets/base",
            "_view_module_version": "1.2.0",
            "_view_name": "LayoutView",
            "align_content": null,
            "align_items": null,
            "align_self": null,
            "border": null,
            "bottom": null,
            "display": null,
            "flex": null,
            "flex_flow": null,
            "grid_area": null,
            "grid_auto_columns": null,
            "grid_auto_flow": null,
            "grid_auto_rows": null,
            "grid_column": null,
            "grid_gap": null,
            "grid_row": null,
            "grid_template_areas": null,
            "grid_template_columns": null,
            "grid_template_rows": null,
            "height": null,
            "justify_content": null,
            "justify_items": null,
            "left": null,
            "margin": null,
            "max_height": null,
            "max_width": null,
            "min_height": null,
            "min_width": null,
            "object_fit": null,
            "object_position": null,
            "order": null,
            "overflow": null,
            "overflow_x": null,
            "overflow_y": null,
            "padding": null,
            "right": null,
            "top": null,
            "visibility": null,
            "width": null
          }
        },
        "438453ccb47b4edaaf8c8e29c97aafeb": {
          "model_module": "@jupyter-widgets/controls",
          "model_module_version": "1.5.0",
          "model_name": "DescriptionStyleModel",
          "state": {
            "_model_module": "@jupyter-widgets/controls",
            "_model_module_version": "1.5.0",
            "_model_name": "DescriptionStyleModel",
            "_view_count": null,
            "_view_module": "@jupyter-widgets/base",
            "_view_module_version": "1.2.0",
            "_view_name": "StyleView",
            "description_width": ""
          }
        },
        "47ddb92cf4f94e009606d4684ace8789": {
          "model_module": "@jupyter-widgets/controls",
          "model_module_version": "1.5.0",
          "model_name": "DescriptionStyleModel",
          "state": {
            "_model_module": "@jupyter-widgets/controls",
            "_model_module_version": "1.5.0",
            "_model_name": "DescriptionStyleModel",
            "_view_count": null,
            "_view_module": "@jupyter-widgets/base",
            "_view_module_version": "1.2.0",
            "_view_name": "StyleView",
            "description_width": ""
          }
        },
        "4e0db07ef5ff43b98fcbdd399e70ff36": {
          "model_module": "@jupyter-widgets/controls",
          "model_module_version": "1.5.0",
          "model_name": "HTMLModel",
          "state": {
            "_dom_classes": [],
            "_model_module": "@jupyter-widgets/controls",
            "_model_module_version": "1.5.0",
            "_model_name": "HTMLModel",
            "_view_count": null,
            "_view_module": "@jupyter-widgets/controls",
            "_view_module_version": "1.5.0",
            "_view_name": "HTMLView",
            "description": "",
            "description_tooltip": null,
            "layout": "IPY_MODEL_795c2e9af11d404c92dc35c1184acece",
            "placeholder": "​",
            "style": "IPY_MODEL_ce1b9589156b42a7a6effdbb274cd4da",
            "value": "config.json: 100%"
          }
        },
        "578dac09ef9b4e09a1a64c80f11ac3ed": {
          "model_module": "@jupyter-widgets/controls",
          "model_module_version": "1.5.0",
          "model_name": "HTMLModel",
          "state": {
            "_dom_classes": [],
            "_model_module": "@jupyter-widgets/controls",
            "_model_module_version": "1.5.0",
            "_model_name": "HTMLModel",
            "_view_count": null,
            "_view_module": "@jupyter-widgets/controls",
            "_view_module_version": "1.5.0",
            "_view_name": "HTMLView",
            "description": "",
            "description_tooltip": null,
            "layout": "IPY_MODEL_184874f5df5344efb7c878cfac7c471a",
            "placeholder": "​",
            "style": "IPY_MODEL_2082d6db2a734cd5b884985539abccfc",
            "value": "generation_config.json: 100%"
          }
        },
        "5b304595f6a8412c9ce5442725de530d": {
          "model_module": "@jupyter-widgets/base",
          "model_module_version": "1.2.0",
          "model_name": "LayoutModel",
          "state": {
            "_model_module": "@jupyter-widgets/base",
            "_model_module_version": "1.2.0",
            "_model_name": "LayoutModel",
            "_view_count": null,
            "_view_module": "@jupyter-widgets/base",
            "_view_module_version": "1.2.0",
            "_view_name": "LayoutView",
            "align_content": null,
            "align_items": null,
            "align_self": null,
            "border": null,
            "bottom": null,
            "display": null,
            "flex": null,
            "flex_flow": null,
            "grid_area": null,
            "grid_auto_columns": null,
            "grid_auto_flow": null,
            "grid_auto_rows": null,
            "grid_column": null,
            "grid_gap": null,
            "grid_row": null,
            "grid_template_areas": null,
            "grid_template_columns": null,
            "grid_template_rows": null,
            "height": null,
            "justify_content": null,
            "justify_items": null,
            "left": null,
            "margin": null,
            "max_height": null,
            "max_width": null,
            "min_height": null,
            "min_width": null,
            "object_fit": null,
            "object_position": null,
            "order": null,
            "overflow": null,
            "overflow_x": null,
            "overflow_y": null,
            "padding": null,
            "right": null,
            "top": null,
            "visibility": null,
            "width": null
          }
        },
        "621f7ed115864299a11a87127c32304e": {
          "model_module": "@jupyter-widgets/controls",
          "model_module_version": "1.5.0",
          "model_name": "FloatProgressModel",
          "state": {
            "_dom_classes": [],
            "_model_module": "@jupyter-widgets/controls",
            "_model_module_version": "1.5.0",
            "_model_name": "FloatProgressModel",
            "_view_count": null,
            "_view_module": "@jupyter-widgets/controls",
            "_view_module_version": "1.5.0",
            "_view_name": "ProgressView",
            "bar_style": "success",
            "description": "",
            "description_tooltip": null,
            "layout": "IPY_MODEL_7ee13bdb1b264311864ffea2c94e9d38",
            "max": 1080,
            "min": 0,
            "orientation": "horizontal",
            "style": "IPY_MODEL_9f45ec20d88944f4825ca2402de85db0",
            "value": 1080
          }
        },
        "65472120905f4122aa4ed6ced86a4b5d": {
          "model_module": "@jupyter-widgets/base",
          "model_module_version": "1.2.0",
          "model_name": "LayoutModel",
          "state": {
            "_model_module": "@jupyter-widgets/base",
            "_model_module_version": "1.2.0",
            "_model_name": "LayoutModel",
            "_view_count": null,
            "_view_module": "@jupyter-widgets/base",
            "_view_module_version": "1.2.0",
            "_view_name": "LayoutView",
            "align_content": null,
            "align_items": null,
            "align_self": null,
            "border": null,
            "bottom": null,
            "display": null,
            "flex": null,
            "flex_flow": null,
            "grid_area": null,
            "grid_auto_columns": null,
            "grid_auto_flow": null,
            "grid_auto_rows": null,
            "grid_column": null,
            "grid_gap": null,
            "grid_row": null,
            "grid_template_areas": null,
            "grid_template_columns": null,
            "grid_template_rows": null,
            "height": null,
            "justify_content": null,
            "justify_items": null,
            "left": null,
            "margin": null,
            "max_height": null,
            "max_width": null,
            "min_height": null,
            "min_width": null,
            "object_fit": null,
            "object_position": null,
            "order": null,
            "overflow": null,
            "overflow_x": null,
            "overflow_y": null,
            "padding": null,
            "right": null,
            "top": null,
            "visibility": null,
            "width": null
          }
        },
        "6a8517180b324c608c3661849ec651c4": {
          "model_module": "@jupyter-widgets/controls",
          "model_module_version": "1.5.0",
          "model_name": "HTMLModel",
          "state": {
            "_dom_classes": [],
            "_model_module": "@jupyter-widgets/controls",
            "_model_module_version": "1.5.0",
            "_model_name": "HTMLModel",
            "_view_count": null,
            "_view_module": "@jupyter-widgets/controls",
            "_view_module_version": "1.5.0",
            "_view_name": "HTMLView",
            "description": "",
            "description_tooltip": null,
            "layout": "IPY_MODEL_79d683a91643419797ae7ba205dbea5f",
            "placeholder": "​",
            "style": "IPY_MODEL_438453ccb47b4edaaf8c8e29c97aafeb",
            "value": " 111/111 [00:00&lt;00:00, 7.60kB/s]"
          }
        },
        "795c2e9af11d404c92dc35c1184acece": {
          "model_module": "@jupyter-widgets/base",
          "model_module_version": "1.2.0",
          "model_name": "LayoutModel",
          "state": {
            "_model_module": "@jupyter-widgets/base",
            "_model_module_version": "1.2.0",
            "_model_name": "LayoutModel",
            "_view_count": null,
            "_view_module": "@jupyter-widgets/base",
            "_view_module_version": "1.2.0",
            "_view_name": "LayoutView",
            "align_content": null,
            "align_items": null,
            "align_self": null,
            "border": null,
            "bottom": null,
            "display": null,
            "flex": null,
            "flex_flow": null,
            "grid_area": null,
            "grid_auto_columns": null,
            "grid_auto_flow": null,
            "grid_auto_rows": null,
            "grid_column": null,
            "grid_gap": null,
            "grid_row": null,
            "grid_template_areas": null,
            "grid_template_columns": null,
            "grid_template_rows": null,
            "height": null,
            "justify_content": null,
            "justify_items": null,
            "left": null,
            "margin": null,
            "max_height": null,
            "max_width": null,
            "min_height": null,
            "min_width": null,
            "object_fit": null,
            "object_position": null,
            "order": null,
            "overflow": null,
            "overflow_x": null,
            "overflow_y": null,
            "padding": null,
            "right": null,
            "top": null,
            "visibility": null,
            "width": null
          }
        },
        "79d683a91643419797ae7ba205dbea5f": {
          "model_module": "@jupyter-widgets/base",
          "model_module_version": "1.2.0",
          "model_name": "LayoutModel",
          "state": {
            "_model_module": "@jupyter-widgets/base",
            "_model_module_version": "1.2.0",
            "_model_name": "LayoutModel",
            "_view_count": null,
            "_view_module": "@jupyter-widgets/base",
            "_view_module_version": "1.2.0",
            "_view_name": "LayoutView",
            "align_content": null,
            "align_items": null,
            "align_self": null,
            "border": null,
            "bottom": null,
            "display": null,
            "flex": null,
            "flex_flow": null,
            "grid_area": null,
            "grid_auto_columns": null,
            "grid_auto_flow": null,
            "grid_auto_rows": null,
            "grid_column": null,
            "grid_gap": null,
            "grid_row": null,
            "grid_template_areas": null,
            "grid_template_columns": null,
            "grid_template_rows": null,
            "height": null,
            "justify_content": null,
            "justify_items": null,
            "left": null,
            "margin": null,
            "max_height": null,
            "max_width": null,
            "min_height": null,
            "min_width": null,
            "object_fit": null,
            "object_position": null,
            "order": null,
            "overflow": null,
            "overflow_x": null,
            "overflow_y": null,
            "padding": null,
            "right": null,
            "top": null,
            "visibility": null,
            "width": null
          }
        },
        "7ee13bdb1b264311864ffea2c94e9d38": {
          "model_module": "@jupyter-widgets/base",
          "model_module_version": "1.2.0",
          "model_name": "LayoutModel",
          "state": {
            "_model_module": "@jupyter-widgets/base",
            "_model_module_version": "1.2.0",
            "_model_name": "LayoutModel",
            "_view_count": null,
            "_view_module": "@jupyter-widgets/base",
            "_view_module_version": "1.2.0",
            "_view_name": "LayoutView",
            "align_content": null,
            "align_items": null,
            "align_self": null,
            "border": null,
            "bottom": null,
            "display": null,
            "flex": null,
            "flex_flow": null,
            "grid_area": null,
            "grid_auto_columns": null,
            "grid_auto_flow": null,
            "grid_auto_rows": null,
            "grid_column": null,
            "grid_gap": null,
            "grid_row": null,
            "grid_template_areas": null,
            "grid_template_columns": null,
            "grid_template_rows": null,
            "height": null,
            "justify_content": null,
            "justify_items": null,
            "left": null,
            "margin": null,
            "max_height": null,
            "max_width": null,
            "min_height": null,
            "min_width": null,
            "object_fit": null,
            "object_position": null,
            "order": null,
            "overflow": null,
            "overflow_x": null,
            "overflow_y": null,
            "padding": null,
            "right": null,
            "top": null,
            "visibility": null,
            "width": null
          }
        },
        "812dfb653090454c94c7226990686625": {
          "model_module": "@jupyter-widgets/base",
          "model_module_version": "1.2.0",
          "model_name": "LayoutModel",
          "state": {
            "_model_module": "@jupyter-widgets/base",
            "_model_module_version": "1.2.0",
            "_model_name": "LayoutModel",
            "_view_count": null,
            "_view_module": "@jupyter-widgets/base",
            "_view_module_version": "1.2.0",
            "_view_name": "LayoutView",
            "align_content": null,
            "align_items": null,
            "align_self": null,
            "border": null,
            "bottom": null,
            "display": null,
            "flex": null,
            "flex_flow": null,
            "grid_area": null,
            "grid_auto_columns": null,
            "grid_auto_flow": null,
            "grid_auto_rows": null,
            "grid_column": null,
            "grid_gap": null,
            "grid_row": null,
            "grid_template_areas": null,
            "grid_template_columns": null,
            "grid_template_rows": null,
            "height": null,
            "justify_content": null,
            "justify_items": null,
            "left": null,
            "margin": null,
            "max_height": null,
            "max_width": null,
            "min_height": null,
            "min_width": null,
            "object_fit": null,
            "object_position": null,
            "order": null,
            "overflow": null,
            "overflow_x": null,
            "overflow_y": null,
            "padding": null,
            "right": null,
            "top": null,
            "visibility": null,
            "width": null
          }
        },
        "83ace7a583bb41e6a13886f1cb0f7e07": {
          "model_module": "@jupyter-widgets/controls",
          "model_module_version": "1.5.0",
          "model_name": "DescriptionStyleModel",
          "state": {
            "_model_module": "@jupyter-widgets/controls",
            "_model_module_version": "1.5.0",
            "_model_name": "DescriptionStyleModel",
            "_view_count": null,
            "_view_module": "@jupyter-widgets/base",
            "_view_module_version": "1.2.0",
            "_view_name": "StyleView",
            "description_width": ""
          }
        },
        "88e1cf65d505401288505abe35a59f31": {
          "model_module": "@jupyter-widgets/controls",
          "model_module_version": "1.5.0",
          "model_name": "HBoxModel",
          "state": {
            "_dom_classes": [],
            "_model_module": "@jupyter-widgets/controls",
            "_model_module_version": "1.5.0",
            "_model_name": "HBoxModel",
            "_view_count": null,
            "_view_module": "@jupyter-widgets/controls",
            "_view_module_version": "1.5.0",
            "_view_name": "HBoxView",
            "box_style": "",
            "children": [
              "IPY_MODEL_4e0db07ef5ff43b98fcbdd399e70ff36",
              "IPY_MODEL_621f7ed115864299a11a87127c32304e",
              "IPY_MODEL_daecfbdbd7b949d689810561384e1fde"
            ],
            "layout": "IPY_MODEL_e35dc7369d3e46319bdf56f1b08097a3"
          }
        },
        "9e19a613838141de9301e54d2d3b8324": {
          "model_module": "@jupyter-widgets/controls",
          "model_module_version": "1.5.0",
          "model_name": "FloatProgressModel",
          "state": {
            "_dom_classes": [],
            "_model_module": "@jupyter-widgets/controls",
            "_model_module_version": "1.5.0",
            "_model_name": "FloatProgressModel",
            "_view_count": null,
            "_view_module": "@jupyter-widgets/controls",
            "_view_module_version": "1.5.0",
            "_view_name": "ProgressView",
            "bar_style": "success",
            "description": "",
            "description_tooltip": null,
            "layout": "IPY_MODEL_5b304595f6a8412c9ce5442725de530d",
            "max": 4158662280,
            "min": 0,
            "orientation": "horizontal",
            "style": "IPY_MODEL_0e9633a095de4643b9936206eccf44ac",
            "value": 4158662280
          }
        },
        "9f45ec20d88944f4825ca2402de85db0": {
          "model_module": "@jupyter-widgets/controls",
          "model_module_version": "1.5.0",
          "model_name": "ProgressStyleModel",
          "state": {
            "_model_module": "@jupyter-widgets/controls",
            "_model_module_version": "1.5.0",
            "_model_name": "ProgressStyleModel",
            "_view_count": null,
            "_view_module": "@jupyter-widgets/base",
            "_view_module_version": "1.2.0",
            "_view_name": "StyleView",
            "bar_color": null,
            "description_width": ""
          }
        },
        "c3de7c54705f46b3944b60cf230317cf": {
          "model_module": "@jupyter-widgets/base",
          "model_module_version": "1.2.0",
          "model_name": "LayoutModel",
          "state": {
            "_model_module": "@jupyter-widgets/base",
            "_model_module_version": "1.2.0",
            "_model_name": "LayoutModel",
            "_view_count": null,
            "_view_module": "@jupyter-widgets/base",
            "_view_module_version": "1.2.0",
            "_view_name": "LayoutView",
            "align_content": null,
            "align_items": null,
            "align_self": null,
            "border": null,
            "bottom": null,
            "display": null,
            "flex": null,
            "flex_flow": null,
            "grid_area": null,
            "grid_auto_columns": null,
            "grid_auto_flow": null,
            "grid_auto_rows": null,
            "grid_column": null,
            "grid_gap": null,
            "grid_row": null,
            "grid_template_areas": null,
            "grid_template_columns": null,
            "grid_template_rows": null,
            "height": null,
            "justify_content": null,
            "justify_items": null,
            "left": null,
            "margin": null,
            "max_height": null,
            "max_width": null,
            "min_height": null,
            "min_width": null,
            "object_fit": null,
            "object_position": null,
            "order": null,
            "overflow": null,
            "overflow_x": null,
            "overflow_y": null,
            "padding": null,
            "right": null,
            "top": null,
            "visibility": null,
            "width": null
          }
        },
        "c419ce7315a54d58803047ab4fa82c89": {
          "model_module": "@jupyter-widgets/controls",
          "model_module_version": "1.5.0",
          "model_name": "FloatProgressModel",
          "state": {
            "_dom_classes": [],
            "_model_module": "@jupyter-widgets/controls",
            "_model_module_version": "1.5.0",
            "_model_name": "FloatProgressModel",
            "_view_count": null,
            "_view_module": "@jupyter-widgets/controls",
            "_view_module_version": "1.5.0",
            "_view_name": "ProgressView",
            "bar_style": "success",
            "description": "",
            "description_tooltip": null,
            "layout": "IPY_MODEL_4118c30f83b04be191eca36a8a43b072",
            "max": 111,
            "min": 0,
            "orientation": "horizontal",
            "style": "IPY_MODEL_17312a3916e545f6b7398dd03ce7ed54",
            "value": 111
          }
        },
        "ce1b9589156b42a7a6effdbb274cd4da": {
          "model_module": "@jupyter-widgets/controls",
          "model_module_version": "1.5.0",
          "model_name": "DescriptionStyleModel",
          "state": {
            "_model_module": "@jupyter-widgets/controls",
            "_model_module_version": "1.5.0",
            "_model_name": "DescriptionStyleModel",
            "_view_count": null,
            "_view_module": "@jupyter-widgets/base",
            "_view_module_version": "1.2.0",
            "_view_name": "StyleView",
            "description_width": ""
          }
        },
        "daecfbdbd7b949d689810561384e1fde": {
          "model_module": "@jupyter-widgets/controls",
          "model_module_version": "1.5.0",
          "model_name": "HTMLModel",
          "state": {
            "_dom_classes": [],
            "_model_module": "@jupyter-widgets/controls",
            "_model_module_version": "1.5.0",
            "_model_name": "HTMLModel",
            "_view_count": null,
            "_view_module": "@jupyter-widgets/controls",
            "_view_module_version": "1.5.0",
            "_view_name": "HTMLView",
            "description": "",
            "description_tooltip": null,
            "layout": "IPY_MODEL_c3de7c54705f46b3944b60cf230317cf",
            "placeholder": "​",
            "style": "IPY_MODEL_47ddb92cf4f94e009606d4684ace8789",
            "value": " 1.08k/1.08k [00:00&lt;00:00, 66.2kB/s]"
          }
        },
        "e35dc7369d3e46319bdf56f1b08097a3": {
          "model_module": "@jupyter-widgets/base",
          "model_module_version": "1.2.0",
          "model_name": "LayoutModel",
          "state": {
            "_model_module": "@jupyter-widgets/base",
            "_model_module_version": "1.2.0",
            "_model_name": "LayoutModel",
            "_view_count": null,
            "_view_module": "@jupyter-widgets/base",
            "_view_module_version": "1.2.0",
            "_view_name": "LayoutView",
            "align_content": null,
            "align_items": null,
            "align_self": null,
            "border": null,
            "bottom": null,
            "display": null,
            "flex": null,
            "flex_flow": null,
            "grid_area": null,
            "grid_auto_columns": null,
            "grid_auto_flow": null,
            "grid_auto_rows": null,
            "grid_column": null,
            "grid_gap": null,
            "grid_row": null,
            "grid_template_areas": null,
            "grid_template_columns": null,
            "grid_template_rows": null,
            "height": null,
            "justify_content": null,
            "justify_items": null,
            "left": null,
            "margin": null,
            "max_height": null,
            "max_width": null,
            "min_height": null,
            "min_width": null,
            "object_fit": null,
            "object_position": null,
            "order": null,
            "overflow": null,
            "overflow_x": null,
            "overflow_y": null,
            "padding": null,
            "right": null,
            "top": null,
            "visibility": null,
            "width": null
          }
        },
        "fc94a0dd65734f258b0de2ea876c9c85": {
          "model_module": "@jupyter-widgets/controls",
          "model_module_version": "1.5.0",
          "model_name": "DescriptionStyleModel",
          "state": {
            "_model_module": "@jupyter-widgets/controls",
            "_model_module_version": "1.5.0",
            "_model_name": "DescriptionStyleModel",
            "_view_count": null,
            "_view_module": "@jupyter-widgets/base",
            "_view_module_version": "1.2.0",
            "_view_name": "StyleView",
            "description_width": ""
          }
        },
        "fd37f51d4efb40db8a9509596d48015a": {
          "model_module": "@jupyter-widgets/controls",
          "model_module_version": "1.5.0",
          "model_name": "HTMLModel",
          "state": {
            "_dom_classes": [],
            "_model_module": "@jupyter-widgets/controls",
            "_model_module_version": "1.5.0",
            "_model_name": "HTMLModel",
            "_view_count": null,
            "_view_module": "@jupyter-widgets/controls",
            "_view_module_version": "1.5.0",
            "_view_name": "HTMLView",
            "description": "",
            "description_tooltip": null,
            "layout": "IPY_MODEL_65472120905f4122aa4ed6ced86a4b5d",
            "placeholder": "​",
            "style": "IPY_MODEL_83ace7a583bb41e6a13886f1cb0f7e07",
            "value": " 4.16G/4.16G [00:38&lt;00:00, 136MB/s]"
          }
        },
        "fffb54a547a24aacb74c316b013e8024": {
          "model_module": "@jupyter-widgets/controls",
          "model_module_version": "1.5.0",
          "model_name": "HBoxModel",
          "state": {
            "_dom_classes": [],
            "_model_module": "@jupyter-widgets/controls",
            "_model_module_version": "1.5.0",
            "_model_name": "HBoxModel",
            "_view_count": null,
            "_view_module": "@jupyter-widgets/controls",
            "_view_module_version": "1.5.0",
            "_view_name": "HBoxView",
            "box_style": "",
            "children": [
              "IPY_MODEL_2457090ecb084ecbbbb8db61d26ae1fd",
              "IPY_MODEL_9e19a613838141de9301e54d2d3b8324",
              "IPY_MODEL_fd37f51d4efb40db8a9509596d48015a"
            ],
            "layout": "IPY_MODEL_4174275dae2341149b69bd193f79c34d"
          }
        }
      }
    }
  },
  "nbformat": 4,
  "nbformat_minor": 0
}
